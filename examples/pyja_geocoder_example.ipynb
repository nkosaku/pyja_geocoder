{
  "cells": [
    {
      "cell_type": "markdown",
      "metadata": {},
      "source": [
        "# Example Usage of pyja_geocoder\n",
        "\n",
        "This notebook demonstrates how to use the pyja_geocoder package for reverse geocoding in Japan."
      ]
    },
    {
      "cell_type": "markdown",
      "metadata": {},
      "source": [
        "## Installation\n",
        "\n",
        "First, you need to install the package. Assuming you have it available, you can skip this step.\n",
        "If you don't have it installed, you would typically install it using pip:\n",
        "```bash\n",
        "pip install pyja_geocoder\n",
        "```"
      ]
    },
    {
      "cell_type": "markdown",
      "metadata": {},
      "source": [
        "## Imports"
      ]
    },
    {
      "cell_type": "code",
      "execution_count": 1,
      "metadata": {},
      "outputs": [],
      "source": [
        "import pyja_geocoder as pg\n",
        "\n",
        "import pandas as pd\n",
        "import geopandas as gpd"
      ]
    },
    {
      "cell_type": "markdown",
      "metadata": {},
      "source": [
        "## Basic Usage: Reverse Geocoding a Single Point\n",
        "Let's start by reverse geocoding a single point using its latitude and longitude."
      ]
    },
    {
      "cell_type": "code",
      "execution_count": 2,
      "metadata": {},
      "outputs": [
        {
          "name": "stderr",
          "output_type": "stream",
          "text": [
            "Downloading MLIT shapefile: 100%|██████████| 611M/611M [00:13<00:00, 44.6MB/s] \n"
          ]
        },
        {
          "name": "stdout",
          "output_type": "stream",
          "text": [
            "Latitude: 35.6895, Longitude: 139.6917\n",
            "City Names: ['東京都' nan nan '新宿区' nan]\n",
            "City Code: 13104\n"
          ]
        }
      ],
      "source": [
        "latitude = 35.6895 \n",
        "longitude = 139.6917\n",
        "crs = \"EPSG:4326\"\n",
        "city_names, city_code = pg.reverse_geocode_single(latitude, longitude, crs=crs)\n",
        "\n",
        "print(f\"Latitude: {latitude}, Longitude: {longitude}\")\n",
        "print(f\"City Names: {city_names}\")\n",
        "print(f\"City Code: {city_code}\")"
      ]
    },
    {
      "cell_type": "markdown",
      "metadata": {},
      "source": [
        "## Reverse Geocoding Multiple Points\n",
        "\n",
        "You can also reverse geocode a list of points efficiently."
      ]
    },
    {
      "cell_type": "code",
      "execution_count": 3,
      "metadata": {},
      "outputs": [
        {
          "name": "stdout",
          "output_type": "stream",
          "text": [
            "Results for multiple points:\n"
          ]
        },
        {
          "data": {
            "text/html": [
              "<div>\n",
              "<style scoped>\n",
              "    .dataframe tbody tr th:only-of-type {\n",
              "        vertical-align: middle;\n",
              "    }\n",
              "\n",
              "    .dataframe tbody tr th {\n",
              "        vertical-align: top;\n",
              "    }\n",
              "\n",
              "    .dataframe thead th {\n",
              "        text-align: right;\n",
              "    }\n",
              "</style>\n",
              "<table border=\"1\" class=\"dataframe\">\n",
              "  <thead>\n",
              "    <tr style=\"text-align: right;\">\n",
              "      <th></th>\n",
              "      <th>N03_001</th>\n",
              "      <th>N03_002</th>\n",
              "      <th>N03_003</th>\n",
              "      <th>N03_004</th>\n",
              "      <th>N03_005</th>\n",
              "      <th>N03_007</th>\n",
              "    </tr>\n",
              "  </thead>\n",
              "  <tbody>\n",
              "    <tr>\n",
              "      <th>0</th>\n",
              "      <td>大阪府</td>\n",
              "      <td>NaN</td>\n",
              "      <td>NaN</td>\n",
              "      <td>大阪市</td>\n",
              "      <td>北区</td>\n",
              "      <td>27127</td>\n",
              "    </tr>\n",
              "    <tr>\n",
              "      <th>1</th>\n",
              "      <td>愛知県</td>\n",
              "      <td>NaN</td>\n",
              "      <td>NaN</td>\n",
              "      <td>名古屋市</td>\n",
              "      <td>中区</td>\n",
              "      <td>23106</td>\n",
              "    </tr>\n",
              "    <tr>\n",
              "      <th>2</th>\n",
              "      <td>北海道</td>\n",
              "      <td>石狩振興局</td>\n",
              "      <td>NaN</td>\n",
              "      <td>札幌市</td>\n",
              "      <td>中央区</td>\n",
              "      <td>01101</td>\n",
              "    </tr>\n",
              "  </tbody>\n",
              "</table>\n",
              "</div>"
            ],
            "text/plain": [
              "  N03_001 N03_002 N03_003 N03_004 N03_005 N03_007\n",
              "0     大阪府     NaN     NaN     大阪市      北区   27127\n",
              "1     愛知県     NaN     NaN    名古屋市      中区   23106\n",
              "2     北海道   石狩振興局     NaN     札幌市     中央区   01101"
            ]
          },
          "execution_count": 3,
          "metadata": {},
          "output_type": "execute_result"
        }
      ],
      "source": [
        "points = [\n",
        "    (34.6937, 135.5023),  # Osaka\n",
        "    (35.1795, 136.9023),  # Nagoya\n",
        "    (43.0618, 141.3545),  # Sapporo\n",
        "]\n",
        "crs = \"EPSG:4326\"\n",
        "results_df = pg.reverse_geocode_from_points(points, crs=crs)\n",
        "print(\"Results for multiple points:\")\n",
        "results_df"
      ]
    },
    {
      "cell_type": "markdown",
      "metadata": {},
      "source": [
        "## Reverse Geocoding from a Pandas DataFrame\n",
        "\n",
        "If you have your coordinates in a Pandas DataFrame, you can use the  function."
      ]
    },
    {
      "cell_type": "code",
      "execution_count": 4,
      "metadata": {},
      "outputs": [
        {
          "name": "stdout",
          "output_type": "stream",
          "text": [
            "Input DataFrame:\n"
          ]
        },
        {
          "data": {
            "text/html": [
              "<div>\n",
              "<style scoped>\n",
              "    .dataframe tbody tr th:only-of-type {\n",
              "        vertical-align: middle;\n",
              "    }\n",
              "\n",
              "    .dataframe tbody tr th {\n",
              "        vertical-align: top;\n",
              "    }\n",
              "\n",
              "    .dataframe thead th {\n",
              "        text-align: right;\n",
              "    }\n",
              "</style>\n",
              "<table border=\"1\" class=\"dataframe\">\n",
              "  <thead>\n",
              "    <tr style=\"text-align: right;\">\n",
              "      <th></th>\n",
              "      <th>latitude</th>\n",
              "      <th>longitude</th>\n",
              "      <th>location_id</th>\n",
              "    </tr>\n",
              "  </thead>\n",
              "  <tbody>\n",
              "    <tr>\n",
              "      <th>0</th>\n",
              "      <td>33.5000</td>\n",
              "      <td>130.4000</td>\n",
              "      <td>A</td>\n",
              "    </tr>\n",
              "    <tr>\n",
              "      <th>1</th>\n",
              "      <td>36.2048</td>\n",
              "      <td>140.3625</td>\n",
              "      <td>B</td>\n",
              "    </tr>\n",
              "  </tbody>\n",
              "</table>\n",
              "</div>"
            ],
            "text/plain": [
              "   latitude  longitude location_id\n",
              "0   33.5000   130.4000           A\n",
              "1   36.2048   140.3625           B"
            ]
          },
          "execution_count": 4,
          "metadata": {},
          "output_type": "execute_result"
        }
      ],
      "source": [
        "data = {'latitude': [33.5000, 36.2048], 'longitude': [130.4000, 140.3625], 'location_id': ['A', 'B']}\n",
        "crs = \"EPSG:4326\"\n",
        "points_df = pd.DataFrame(data)\n",
        "print(\"Input DataFrame:\")\n",
        "points_df"
      ]
    },
    {
      "cell_type": "code",
      "execution_count": 5,
      "id": "53b22088",
      "metadata": {},
      "outputs": [
        {
          "name": "stdout",
          "output_type": "stream",
          "text": [
            "Results from DataFrame:\n"
          ]
        },
        {
          "data": {
            "text/html": [
              "<div>\n",
              "<style scoped>\n",
              "    .dataframe tbody tr th:only-of-type {\n",
              "        vertical-align: middle;\n",
              "    }\n",
              "\n",
              "    .dataframe tbody tr th {\n",
              "        vertical-align: top;\n",
              "    }\n",
              "\n",
              "    .dataframe thead th {\n",
              "        text-align: right;\n",
              "    }\n",
              "</style>\n",
              "<table border=\"1\" class=\"dataframe\">\n",
              "  <thead>\n",
              "    <tr style=\"text-align: right;\">\n",
              "      <th></th>\n",
              "      <th>latitude</th>\n",
              "      <th>longitude</th>\n",
              "      <th>location_id</th>\n",
              "      <th>N03_001</th>\n",
              "      <th>N03_002</th>\n",
              "      <th>N03_003</th>\n",
              "      <th>N03_004</th>\n",
              "      <th>N03_005</th>\n",
              "      <th>N03_007</th>\n",
              "    </tr>\n",
              "  </thead>\n",
              "  <tbody>\n",
              "    <tr>\n",
              "      <th>0</th>\n",
              "      <td>33.5000</td>\n",
              "      <td>130.4000</td>\n",
              "      <td>A</td>\n",
              "      <td>福岡県</td>\n",
              "      <td>NaN</td>\n",
              "      <td>NaN</td>\n",
              "      <td>那珂川市</td>\n",
              "      <td>NaN</td>\n",
              "      <td>40231</td>\n",
              "    </tr>\n",
              "    <tr>\n",
              "      <th>1</th>\n",
              "      <td>36.2048</td>\n",
              "      <td>140.3625</td>\n",
              "      <td>B</td>\n",
              "      <td>茨城県</td>\n",
              "      <td>NaN</td>\n",
              "      <td>NaN</td>\n",
              "      <td>小美玉市</td>\n",
              "      <td>NaN</td>\n",
              "      <td>08236</td>\n",
              "    </tr>\n",
              "  </tbody>\n",
              "</table>\n",
              "</div>"
            ],
            "text/plain": [
              "   latitude  longitude location_id N03_001 N03_002 N03_003 N03_004 N03_005  \\\n",
              "0   33.5000   130.4000           A     福岡県     NaN     NaN    那珂川市     NaN   \n",
              "1   36.2048   140.3625           B     茨城県     NaN     NaN    小美玉市     NaN   \n",
              "\n",
              "  N03_007  \n",
              "0   40231  \n",
              "1   08236  "
            ]
          },
          "execution_count": 5,
          "metadata": {},
          "output_type": "execute_result"
        }
      ],
      "source": [
        "results_df_from_df = pg.reverse_geocode_from_df(points_df, crs=crs)\n",
        "print(\"Results from DataFrame:\")\n",
        "pd.concat([points_df, results_df_from_df], axis=1)"
      ]
    },
    {
      "cell_type": "markdown",
      "metadata": {},
      "source": [
        "## Reverse Geocoding from a GeoPandas GeoDataFrame\n",
        "\n",
        "If you are already working with GeoPandas, you can directly use a GeoDataFrame."
      ]
    },
    {
      "cell_type": "code",
      "execution_count": 6,
      "metadata": {},
      "outputs": [
        {
          "name": "stdout",
          "output_type": "stream",
          "text": [
            "Input GeoDataFrame:\n"
          ]
        },
        {
          "data": {
            "text/html": [
              "<div>\n",
              "<style scoped>\n",
              "    .dataframe tbody tr th:only-of-type {\n",
              "        vertical-align: middle;\n",
              "    }\n",
              "\n",
              "    .dataframe tbody tr th {\n",
              "        vertical-align: top;\n",
              "    }\n",
              "\n",
              "    .dataframe thead th {\n",
              "        text-align: right;\n",
              "    }\n",
              "</style>\n",
              "<table border=\"1\" class=\"dataframe\">\n",
              "  <thead>\n",
              "    <tr style=\"text-align: right;\">\n",
              "      <th></th>\n",
              "      <th>latitude</th>\n",
              "      <th>longitude</th>\n",
              "      <th>location_id</th>\n",
              "      <th>geometry</th>\n",
              "    </tr>\n",
              "  </thead>\n",
              "  <tbody>\n",
              "    <tr>\n",
              "      <th>0</th>\n",
              "      <td>33.5000</td>\n",
              "      <td>130.4000</td>\n",
              "      <td>A</td>\n",
              "      <td>POINT (130.4 33.5)</td>\n",
              "    </tr>\n",
              "    <tr>\n",
              "      <th>1</th>\n",
              "      <td>36.2048</td>\n",
              "      <td>140.3625</td>\n",
              "      <td>B</td>\n",
              "      <td>POINT (140.3625 36.2048)</td>\n",
              "    </tr>\n",
              "  </tbody>\n",
              "</table>\n",
              "</div>"
            ],
            "text/plain": [
              "   latitude  longitude location_id                  geometry\n",
              "0   33.5000   130.4000           A        POINT (130.4 33.5)\n",
              "1   36.2048   140.3625           B  POINT (140.3625 36.2048)"
            ]
          },
          "execution_count": 6,
          "metadata": {},
          "output_type": "execute_result"
        }
      ],
      "source": [
        "geometry = gpd.points_from_xy(points_df['longitude'], points_df['latitude'], crs=crs)\n",
        "points_gdf = gpd.GeoDataFrame(points_df, geometry=geometry)\n",
        "print(\"Input GeoDataFrame:\")\n",
        "points_gdf"
      ]
    },
    {
      "cell_type": "code",
      "execution_count": 7,
      "id": "ea719cd8",
      "metadata": {},
      "outputs": [
        {
          "name": "stdout",
          "output_type": "stream",
          "text": [
            "Results from GeoDataFrame:\n"
          ]
        },
        {
          "data": {
            "text/html": [
              "<div>\n",
              "<style scoped>\n",
              "    .dataframe tbody tr th:only-of-type {\n",
              "        vertical-align: middle;\n",
              "    }\n",
              "\n",
              "    .dataframe tbody tr th {\n",
              "        vertical-align: top;\n",
              "    }\n",
              "\n",
              "    .dataframe thead th {\n",
              "        text-align: right;\n",
              "    }\n",
              "</style>\n",
              "<table border=\"1\" class=\"dataframe\">\n",
              "  <thead>\n",
              "    <tr style=\"text-align: right;\">\n",
              "      <th></th>\n",
              "      <th>latitude</th>\n",
              "      <th>longitude</th>\n",
              "      <th>location_id</th>\n",
              "      <th>geometry</th>\n",
              "      <th>N03_001</th>\n",
              "      <th>N03_002</th>\n",
              "      <th>N03_003</th>\n",
              "      <th>N03_004</th>\n",
              "      <th>N03_005</th>\n",
              "      <th>N03_007</th>\n",
              "    </tr>\n",
              "  </thead>\n",
              "  <tbody>\n",
              "    <tr>\n",
              "      <th>0</th>\n",
              "      <td>33.5000</td>\n",
              "      <td>130.4000</td>\n",
              "      <td>A</td>\n",
              "      <td>POINT (130.4 33.5)</td>\n",
              "      <td>福岡県</td>\n",
              "      <td>NaN</td>\n",
              "      <td>NaN</td>\n",
              "      <td>那珂川市</td>\n",
              "      <td>NaN</td>\n",
              "      <td>40231</td>\n",
              "    </tr>\n",
              "    <tr>\n",
              "      <th>1</th>\n",
              "      <td>36.2048</td>\n",
              "      <td>140.3625</td>\n",
              "      <td>B</td>\n",
              "      <td>POINT (140.3625 36.2048)</td>\n",
              "      <td>茨城県</td>\n",
              "      <td>NaN</td>\n",
              "      <td>NaN</td>\n",
              "      <td>小美玉市</td>\n",
              "      <td>NaN</td>\n",
              "      <td>08236</td>\n",
              "    </tr>\n",
              "  </tbody>\n",
              "</table>\n",
              "</div>"
            ],
            "text/plain": [
              "   latitude  longitude location_id                  geometry N03_001 N03_002  \\\n",
              "0   33.5000   130.4000           A        POINT (130.4 33.5)     福岡県     NaN   \n",
              "1   36.2048   140.3625           B  POINT (140.3625 36.2048)     茨城県     NaN   \n",
              "\n",
              "  N03_003 N03_004 N03_005 N03_007  \n",
              "0     NaN    那珂川市     NaN   40231  \n",
              "1     NaN    小美玉市     NaN   08236  "
            ]
          },
          "execution_count": 7,
          "metadata": {},
          "output_type": "execute_result"
        }
      ],
      "source": [
        "results_gdf = pg.reverse_geocode_from_gdf(points_gdf)\n",
        "print(\"Results from GeoDataFrame:\")\n",
        "pd.concat([points_gdf, results_gdf], axis=1)"
      ]
    },
    {
      "cell_type": "markdown",
      "id": "2f944aa8",
      "metadata": {},
      "source": [
        "## Delete Cache"
      ]
    },
    {
      "cell_type": "code",
      "execution_count": 8,
      "id": "a21f4b94",
      "metadata": {},
      "outputs": [],
      "source": [
        "pg.delete_cache()"
      ]
    }
  ],
  "metadata": {
    "kernelspec": {
      "display_name": "Python 3",
      "language": "python",
      "name": "python3"
    },
    "language_info": {
      "codemirror_mode": {
        "name": "ipython",
        "version": 3
      },
      "file_extension": ".py",
      "mimetype": "text/x-python",
      "name": "python",
      "nbconvert_exporter": "python",
      "pygments_lexer": "ipython3",
      "version": "3.12.8"
    }
  },
  "nbformat": 4,
  "nbformat_minor": 5
}
